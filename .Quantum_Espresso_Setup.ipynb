{
  "nbformat": 4,
  "nbformat_minor": 0,
  "metadata": {
    "colab": {
      "provenance": [],
      "authorship_tag": "ABX9TyMRJFPUSvLFijZPcfNaWa5A",
      "include_colab_link": true
    },
    "kernelspec": {
      "name": "python3",
      "display_name": "Python 3"
    },
    "language_info": {
      "name": "python"
    }
  },
  "cells": [
    {
      "cell_type": "markdown",
      "metadata": {
        "id": "view-in-github",
        "colab_type": "text"
      },
      "source": [
        "<a href=\"https://colab.research.google.com/github/cristiansayers/PChem-2-DFT-Lab/blob/main/.Quantum_Espresso_Setup.ipynb\" target=\"_parent\"><img src=\"https://colab.research.google.com/assets/colab-badge.svg\" alt=\"Open In Colab\"/></a>"
      ]
    },
    {
      "cell_type": "code",
      "execution_count": null,
      "metadata": {
        "id": "Mh6Z5TbNmtl8"
      },
      "outputs": [],
      "source": [
        "!sudo apt update\n",
        "!sudo apt upgrade\n",
        "!sudo apt install --no-install-recommends \\\n",
        "    libfftw3-dev \\\n",
        "    quantum-espresso"
      ]
    },
    {
      "cell_type": "code",
      "source": [
        "!git clone https://github.com/cristiansayers/PChem-2-DFT-Lab.git"
      ],
      "metadata": {
        "id": "e1aDGoZEzbp9"
      },
      "execution_count": null,
      "outputs": []
    }
  ]
}